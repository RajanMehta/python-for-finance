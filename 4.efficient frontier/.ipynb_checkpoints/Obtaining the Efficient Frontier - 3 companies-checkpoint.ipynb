{
 "cells": [
  {
   "cell_type": "code",
   "execution_count": 11,
   "metadata": {},
   "outputs": [],
   "source": [
    "import numpy as np\n",
    "import pandas as pd\n",
    "import matplotlib.pyplot as plt\n",
    "%matplotlib inline"
   ]
  },
  {
   "cell_type": "code",
   "execution_count": 4,
   "metadata": {},
   "outputs": [],
   "source": [
    "assets = ['WMT', 'FB', 'BP']\n",
    "pf_data = pd.read_csv('WMT_FB_BP_2014_2017.csv', index_col='Date')"
   ]
  },
  {
   "cell_type": "code",
   "execution_count": 5,
   "metadata": {},
   "outputs": [
    {
     "data": {
      "text/html": [
       "<div>\n",
       "<style>\n",
       "    .dataframe thead tr:only-child th {\n",
       "        text-align: right;\n",
       "    }\n",
       "\n",
       "    .dataframe thead th {\n",
       "        text-align: left;\n",
       "    }\n",
       "\n",
       "    .dataframe tbody tr th {\n",
       "        vertical-align: top;\n",
       "    }\n",
       "</style>\n",
       "<table border=\"1\" class=\"dataframe\">\n",
       "  <thead>\n",
       "    <tr style=\"text-align: right;\">\n",
       "      <th></th>\n",
       "      <th>WMT</th>\n",
       "      <th>FB</th>\n",
       "      <th>BP</th>\n",
       "    </tr>\n",
       "    <tr>\n",
       "      <th>Date</th>\n",
       "      <th></th>\n",
       "      <th></th>\n",
       "      <th></th>\n",
       "    </tr>\n",
       "  </thead>\n",
       "  <tbody>\n",
       "    <tr>\n",
       "      <th>2013-12-31</th>\n",
       "      <td>70.753525</td>\n",
       "      <td>54.650002</td>\n",
       "      <td>37.758350</td>\n",
       "    </tr>\n",
       "    <tr>\n",
       "      <th>2014-01-02</th>\n",
       "      <td>70.951355</td>\n",
       "      <td>54.709999</td>\n",
       "      <td>37.268997</td>\n",
       "    </tr>\n",
       "    <tr>\n",
       "      <th>2014-01-03</th>\n",
       "      <td>70.717583</td>\n",
       "      <td>54.560001</td>\n",
       "      <td>37.183540</td>\n",
       "    </tr>\n",
       "    <tr>\n",
       "      <th>2014-01-06</th>\n",
       "      <td>70.321945</td>\n",
       "      <td>57.200001</td>\n",
       "      <td>37.284527</td>\n",
       "    </tr>\n",
       "    <tr>\n",
       "      <th>2014-01-07</th>\n",
       "      <td>70.537735</td>\n",
       "      <td>57.919998</td>\n",
       "      <td>37.711742</td>\n",
       "    </tr>\n",
       "  </tbody>\n",
       "</table>\n",
       "</div>"
      ],
      "text/plain": [
       "                  WMT         FB         BP\n",
       "Date                                       \n",
       "2013-12-31  70.753525  54.650002  37.758350\n",
       "2014-01-02  70.951355  54.709999  37.268997\n",
       "2014-01-03  70.717583  54.560001  37.183540\n",
       "2014-01-06  70.321945  57.200001  37.284527\n",
       "2014-01-07  70.537735  57.919998  37.711742"
      ]
     },
     "execution_count": 5,
     "metadata": {},
     "output_type": "execute_result"
    }
   ],
   "source": [
    "pf_data.head()"
   ]
  },
  {
   "cell_type": "code",
   "execution_count": 6,
   "metadata": {},
   "outputs": [
    {
     "data": {
      "text/html": [
       "<div>\n",
       "<style>\n",
       "    .dataframe thead tr:only-child th {\n",
       "        text-align: right;\n",
       "    }\n",
       "\n",
       "    .dataframe thead th {\n",
       "        text-align: left;\n",
       "    }\n",
       "\n",
       "    .dataframe tbody tr th {\n",
       "        vertical-align: top;\n",
       "    }\n",
       "</style>\n",
       "<table border=\"1\" class=\"dataframe\">\n",
       "  <thead>\n",
       "    <tr style=\"text-align: right;\">\n",
       "      <th></th>\n",
       "      <th>WMT</th>\n",
       "      <th>FB</th>\n",
       "      <th>BP</th>\n",
       "    </tr>\n",
       "    <tr>\n",
       "      <th>Date</th>\n",
       "      <th></th>\n",
       "      <th></th>\n",
       "      <th></th>\n",
       "    </tr>\n",
       "  </thead>\n",
       "  <tbody>\n",
       "    <tr>\n",
       "      <th>2017-12-06</th>\n",
       "      <td>96.769997</td>\n",
       "      <td>176.059998</td>\n",
       "      <td>39.580002</td>\n",
       "    </tr>\n",
       "    <tr>\n",
       "      <th>2017-12-07</th>\n",
       "      <td>96.779999</td>\n",
       "      <td>180.139999</td>\n",
       "      <td>39.310001</td>\n",
       "    </tr>\n",
       "    <tr>\n",
       "      <th>2017-12-08</th>\n",
       "      <td>96.550003</td>\n",
       "      <td>179.000000</td>\n",
       "      <td>39.639999</td>\n",
       "    </tr>\n",
       "    <tr>\n",
       "      <th>2017-12-11</th>\n",
       "      <td>96.930000</td>\n",
       "      <td>179.039993</td>\n",
       "      <td>39.930000</td>\n",
       "    </tr>\n",
       "    <tr>\n",
       "      <th>2017-12-12</th>\n",
       "      <td>96.699997</td>\n",
       "      <td>176.960007</td>\n",
       "      <td>40.660000</td>\n",
       "    </tr>\n",
       "  </tbody>\n",
       "</table>\n",
       "</div>"
      ],
      "text/plain": [
       "                  WMT          FB         BP\n",
       "Date                                        \n",
       "2017-12-06  96.769997  176.059998  39.580002\n",
       "2017-12-07  96.779999  180.139999  39.310001\n",
       "2017-12-08  96.550003  179.000000  39.639999\n",
       "2017-12-11  96.930000  179.039993  39.930000\n",
       "2017-12-12  96.699997  176.960007  40.660000"
      ]
     },
     "execution_count": 6,
     "metadata": {},
     "output_type": "execute_result"
    }
   ],
   "source": [
    "pf_data.tail()"
   ]
  },
  {
   "cell_type": "code",
   "execution_count": 12,
   "metadata": {},
   "outputs": [
    {
     "data": {
      "text/plain": [
       "<matplotlib.axes._subplots.AxesSubplot at 0xbf88f98>"
      ]
     },
     "execution_count": 12,
     "metadata": {},
     "output_type": "execute_result"
    },
    {
     "data": {
      "image/png": "[encoded data removed]",
      "text/plain": [
       "<matplotlib.figure.Figure at 0xbdb70b8>"
      ]
     },
     "metadata": {},
     "output_type": "display_data"
    }
   ],
   "source": [
    "(pf_data / pf_data.iloc[0] * 100).plot(figsize=(10, 5))"
   ]
  },
  {
   "cell_type": "code",
   "execution_count": 6,
   "metadata": {
    "collapsed": true
   },
   "outputs": [],
   "source": [
    "log_returns = np.log(pf_data / pf_data.shift(1))"
   ]
  },
  {
   "cell_type": "code",
   "execution_count": 7,
   "metadata": {},
   "outputs": [
    {
     "data": {
      "text/plain": [
       "WMT    0.078495\n",
       "FB     0.295220\n",
       "BP     0.018603\n",
       "dtype: float64"
      ]
     },
     "execution_count": 7,
     "metadata": {},
     "output_type": "execute_result"
    }
   ],
   "source": [
    "log_returns.mean() * 250"
   ]
  },
  {
   "cell_type": "code",
   "execution_count": 8,
   "metadata": {},
   "outputs": [
    {
     "data": {
      "text/html": [
       "<div>\n",
       "<style>\n",
       "    .dataframe thead tr:only-child th {\n",
       "        text-align: right;\n",
       "    }\n",
       "\n",
       "    .dataframe thead th {\n",
       "        text-align: left;\n",
       "    }\n",
       "\n",
       "    .dataframe tbody tr th {\n",
       "        vertical-align: top;\n",
       "    }\n",
       "</style>\n",
       "<table border=\"1\" class=\"dataframe\">\n",
       "  <thead>\n",
       "    <tr style=\"text-align: right;\">\n",
       "      <th></th>\n",
       "      <th>WMT</th>\n",
       "      <th>FB</th>\n",
       "      <th>BP</th>\n",
       "    </tr>\n",
       "  </thead>\n",
       "  <tbody>\n",
       "    <tr>\n",
       "      <th>WMT</th>\n",
       "      <td>0.032659</td>\n",
       "      <td>0.007449</td>\n",
       "      <td>0.005651</td>\n",
       "    </tr>\n",
       "    <tr>\n",
       "      <th>FB</th>\n",
       "      <td>0.007449</td>\n",
       "      <td>0.074427</td>\n",
       "      <td>0.013889</td>\n",
       "    </tr>\n",
       "    <tr>\n",
       "      <th>BP</th>\n",
       "      <td>0.005651</td>\n",
       "      <td>0.013889</td>\n",
       "      <td>0.056863</td>\n",
       "    </tr>\n",
       "  </tbody>\n",
       "</table>\n",
       "</div>"
      ],
      "text/plain": [
       "          WMT        FB        BP\n",
       "WMT  0.032659  0.007449  0.005651\n",
       "FB   0.007449  0.074427  0.013889\n",
       "BP   0.005651  0.013889  0.056863"
      ]
     },
     "execution_count": 8,
     "metadata": {},
     "output_type": "execute_result"
    }
   ],
   "source": [
    "log_returns.cov() * 250"
   ]
  },
  {
   "cell_type": "code",
   "execution_count": 9,
   "metadata": {},
   "outputs": [
    {
     "data": {
      "text/html": [
       "<div>\n",
       "<style>\n",
       "    .dataframe thead tr:only-child th {\n",
       "        text-align: right;\n",
       "    }\n",
       "\n",
       "    .dataframe thead th {\n",
       "        text-align: left;\n",
       "    }\n",
       "\n",
       "    .dataframe tbody tr th {\n",
       "        vertical-align: top;\n",
       "    }\n",
       "</style>\n",
       "<table border=\"1\" class=\"dataframe\">\n",
       "  <thead>\n",
       "    <tr style=\"text-align: right;\">\n",
       "      <th></th>\n",
       "      <th>WMT</th>\n",
       "      <th>FB</th>\n",
       "      <th>BP</th>\n",
       "    </tr>\n",
       "  </thead>\n",
       "  <tbody>\n",
       "    <tr>\n",
       "      <th>WMT</th>\n",
       "      <td>1.000000</td>\n",
       "      <td>0.151081</td>\n",
       "      <td>0.131138</td>\n",
       "    </tr>\n",
       "    <tr>\n",
       "      <th>FB</th>\n",
       "      <td>0.151081</td>\n",
       "      <td>1.000000</td>\n",
       "      <td>0.213505</td>\n",
       "    </tr>\n",
       "    <tr>\n",
       "      <th>BP</th>\n",
       "      <td>0.131138</td>\n",
       "      <td>0.213505</td>\n",
       "      <td>1.000000</td>\n",
       "    </tr>\n",
       "  </tbody>\n",
       "</table>\n",
       "</div>"
      ],
      "text/plain": [
       "          WMT        FB        BP\n",
       "WMT  1.000000  0.151081  0.131138\n",
       "FB   0.151081  1.000000  0.213505\n",
       "BP   0.131138  0.213505  1.000000"
      ]
     },
     "execution_count": 9,
     "metadata": {},
     "output_type": "execute_result"
    }
   ],
   "source": [
    "log_returns.corr()"
   ]
  },
  {
   "cell_type": "code",
   "execution_count": 10,
   "metadata": {
    "collapsed": true
   },
   "outputs": [],
   "source": [
    "num_assets = len(assets)"
   ]
  },
  {
   "cell_type": "code",
   "execution_count": 11,
   "metadata": {},
   "outputs": [
    {
     "data": {
      "text/plain": [
       "3"
      ]
     },
     "execution_count": 11,
     "metadata": {},
     "output_type": "execute_result"
    }
   ],
   "source": [
    "num_assets"
   ]
  },
  {
   "cell_type": "code",
   "execution_count": 12,
   "metadata": {},
   "outputs": [
    {
     "data": {
      "text/plain": [
       "array([ 0.71129498,  0.47156867])"
      ]
     },
     "execution_count": 12,
     "metadata": {},
     "output_type": "execute_result"
    }
   ],
   "source": [
    "arr = np.random.random(2)\n",
    "arr"
   ]
  },
  {
   "cell_type": "code",
   "execution_count": 13,
   "metadata": {},
   "outputs": [
    {
     "data": {
      "text/plain": [
       "1.1828636493966584"
      ]
     },
     "execution_count": 13,
     "metadata": {},
     "output_type": "execute_result"
    }
   ],
   "source": [
    "arr[0] + arr[1]"
   ]
  },
  {
   "cell_type": "code",
   "execution_count": 14,
   "metadata": {},
   "outputs": [
    {
     "data": {
      "text/plain": [
       "array([ 0.31321904,  0.53488   ,  0.15190096])"
      ]
     },
     "execution_count": 14,
     "metadata": {},
     "output_type": "execute_result"
    }
   ],
   "source": [
    "weights = np.random.random(num_assets)\n",
    "weights /= np.sum(weights)\n",
    "weights"
   ]
  },
  {
   "cell_type": "code",
   "execution_count": 15,
   "metadata": {
    "scrolled": true
   },
   "outputs": [
    {
     "data": {
      "text/plain": [
       "1.0"
      ]
     },
     "execution_count": 15,
     "metadata": {},
     "output_type": "execute_result"
    }
   ],
   "source": [
    "weights[0] + weights[1] + weights[2]"
   ]
  },
  {
   "cell_type": "markdown",
   "metadata": {},
   "source": [
    "Expected Portfolio Return:"
   ]
  },
  {
   "cell_type": "code",
   "execution_count": 16,
   "metadata": {},
   "outputs": [
    {
     "data": {
      "text/plain": [
       "0.18531907252762322"
      ]
     },
     "execution_count": 16,
     "metadata": {},
     "output_type": "execute_result"
    }
   ],
   "source": [
    "np.sum(weights * log_returns.mean()) * 250"
   ]
  },
  {
   "cell_type": "markdown",
   "metadata": {},
   "source": [
    "Expected Portfolio Variance:"
   ]
  },
  {
   "cell_type": "code",
   "execution_count": 17,
   "metadata": {},
   "outputs": [
    {
     "data": {
      "text/plain": [
       "0.031099925953741527"
      ]
     },
     "execution_count": 17,
     "metadata": {},
     "output_type": "execute_result"
    }
   ],
   "source": [
    "np.dot(weights.T, np.dot(log_returns.cov() * 250, weights))"
   ]
  },
  {
   "cell_type": "markdown",
   "metadata": {},
   "source": [
    "Expected Portfolio Volatility:"
   ]
  },
  {
   "cell_type": "code",
   "execution_count": 18,
   "metadata": {},
   "outputs": [
    {
     "data": {
      "text/plain": [
       "0.1763517109464536"
      ]
     },
     "execution_count": 18,
     "metadata": {},
     "output_type": "execute_result"
    }
   ],
   "source": [
    "np.sqrt(np.dot(weights.T,np.dot(log_returns.cov() * 250, weights)))"
   ]
  },
  {
   "cell_type": "markdown",
   "metadata": {},
   "source": [
    "***"
   ]
  },
  {
   "cell_type": "code",
   "execution_count": 20,
   "metadata": {
    "collapsed": true
   },
   "outputs": [
    {
     "data": {
      "text/plain": [
       "(array([ 0.24989988,  0.22773183,  0.0643395 ,  0.06937222,  0.18505165,\n",
       "         0.20423739,  0.10283063,  0.08738578,  0.05117993,  0.12241083,\n",
       "         0.11190829,  0.08377243,  0.12715164,  0.08559494,  0.12049628,\n",
       "         0.16729744,  0.1284473 ,  0.09517607,  0.08015956,  0.13479341,\n",
       "         0.16735131,  0.27018563,  0.14146612,  0.14163287,  0.06538892,\n",
       "         0.09448284,  0.19151443,  0.12970324,  0.16174978,  0.27264495,\n",
       "         0.15855912,  0.13156203,  0.05827612,  0.12426254,  0.19736153,\n",
       "         0.12416003,  0.05594182,  0.14207482,  0.18278401,  0.09775954,\n",
       "         0.14550223,  0.14649359,  0.22961785,  0.07089217,  0.08753737,\n",
       "         0.13300314,  0.14068466,  0.1054017 ,  0.17699139,  0.19293895,\n",
       "         0.1256007 ,  0.13900458,  0.15279519,  0.13954602,  0.22793696,\n",
       "         0.11003132,  0.15437282,  0.13647588,  0.16831346,  0.14132411,\n",
       "         0.25278496,  0.17258023,  0.12675851,  0.12426066,  0.08278206,\n",
       "         0.17291628,  0.07340288,  0.15524805,  0.13277598,  0.18118732,\n",
       "         0.13079275,  0.26690818,  0.11065334,  0.18264705,  0.16868664,\n",
       "         0.07717468,  0.12278804,  0.17630619,  0.07163928,  0.18037449,\n",
       "         0.06645252,  0.08077249,  0.16509025,  0.12833372,  0.1051296 ,\n",
       "         0.16198007,  0.10930243,  0.22122894,  0.1638069 ,  0.13589442,\n",
       "         0.03948288,  0.06356313,  0.11043248,  0.14257676,  0.17221082,\n",
       "         0.09427653,  0.18184023,  0.08957337,  0.11497941,  0.14861942,\n",
       "         0.16788278,  0.1623654 ,  0.28713583,  0.18996234,  0.16613395,\n",
       "         0.03970277,  0.04324088,  0.18708636,  0.21681701,  0.10080295,\n",
       "         0.06038239,  0.15546826,  0.16368917,  0.09183714,  0.06196418,\n",
       "         0.16878428,  0.17089495,  0.06794456,  0.1373572 ,  0.03763238,\n",
       "         0.12026578,  0.11943737,  0.13212321,  0.14065801,  0.16198858,\n",
       "         0.11812393,  0.19980384,  0.08042167,  0.06559476,  0.13685952,\n",
       "         0.08294612,  0.1033153 ,  0.14142884,  0.15002908,  0.21943441,\n",
       "         0.09014395,  0.07168957,  0.13091397,  0.11749719,  0.19926856,\n",
       "         0.19327635,  0.13707528,  0.19070201,  0.10544245,  0.08490888,\n",
       "         0.08980956,  0.10355952,  0.14977061,  0.13456169,  0.15268508,\n",
       "         0.1496274 ,  0.05592969,  0.20443896,  0.15630428,  0.09189578,\n",
       "         0.12718573,  0.07619397,  0.08493285,  0.15667748,  0.1312155 ,\n",
       "         0.08175378,  0.18449294,  0.11470884,  0.13751771,  0.19607588,\n",
       "         0.12208081,  0.16553534,  0.1115507 ,  0.14551165,  0.11992152,\n",
       "         0.06949659,  0.20087479,  0.10684035,  0.10211468,  0.1618898 ,\n",
       "         0.17080343,  0.15972678,  0.16221533,  0.19807186,  0.14649517,\n",
       "         0.06255723,  0.09008953,  0.09308277,  0.19883318,  0.17098471,\n",
       "         0.07880223,  0.15738053,  0.16021991,  0.06913128,  0.15832424,\n",
       "         0.07492621,  0.12846263,  0.14996261,  0.1335294 ,  0.15439614,\n",
       "         0.10997709,  0.13761539,  0.08688154,  0.09238473,  0.11463496,\n",
       "         0.19806697,  0.15909573,  0.18476231,  0.07616518,  0.15543284,\n",
       "         0.15122514,  0.05645336,  0.13690624,  0.05008626,  0.13369294,\n",
       "         0.13493045,  0.13122892,  0.07050949,  0.08868809,  0.14199127,\n",
       "         0.09500064,  0.0895001 ,  0.15568326,  0.16625674,  0.02724313,\n",
       "         0.12781647,  0.1039354 ,  0.07479191,  0.14617508,  0.12343544,\n",
       "         0.09846604,  0.08341409,  0.14848643,  0.10290297,  0.12837067,\n",
       "         0.17565291,  0.1311291 ,  0.17652005,  0.18127429,  0.07503342,\n",
       "         0.10414633,  0.11368227,  0.07563765,  0.08343055,  0.13498977,\n",
       "         0.16881062,  0.17888255,  0.17477054,  0.1589608 ,  0.1450546 ,\n",
       "         0.12918314,  0.08696729,  0.17087077,  0.15249449,  0.17993812,\n",
       "         0.14544896,  0.11500935,  0.11075125,  0.09432309,  0.12476815,\n",
       "         0.14512863,  0.14347875,  0.16037846,  0.08400378,  0.07832327,\n",
       "         0.12038033,  0.15898636,  0.1951279 ,  0.14303917,  0.11817935,\n",
       "         0.13249188,  0.12420184,  0.09350943,  0.1057794 ,  0.13875919,\n",
       "         0.06972253,  0.0582942 ,  0.20879906,  0.17593355,  0.14380837,\n",
       "         0.085164  ,  0.18574647,  0.08015829,  0.15228995,  0.13549663,\n",
       "         0.1310863 ,  0.08823401,  0.18527273,  0.09515885,  0.09886543,\n",
       "         0.19408188,  0.11799104,  0.13630168,  0.11983823,  0.07852064,\n",
       "         0.14075717,  0.1130073 ,  0.10107216,  0.06806435,  0.1231531 ,\n",
       "         0.08890064,  0.13582155,  0.18188561,  0.13146379,  0.1370302 ,\n",
       "         0.09019162,  0.12204818,  0.248718  ,  0.13442408,  0.18630323,\n",
       "         0.09767388,  0.08240019,  0.18715226,  0.11823251,  0.14268555,\n",
       "         0.07213165,  0.11129345,  0.19835013,  0.13308697,  0.14046884,\n",
       "         0.06794635,  0.22879852,  0.15724032,  0.11622351,  0.14615954,\n",
       "         0.10801995,  0.20058728,  0.16829655,  0.1248427 ,  0.20705336,\n",
       "         0.16231935,  0.10607893,  0.10335881,  0.16366565,  0.12504628,\n",
       "         0.12266823,  0.13613179,  0.19488377,  0.06404764,  0.18144669,\n",
       "         0.11311941,  0.11850199,  0.11743597,  0.19667522,  0.18567006,\n",
       "         0.14281553,  0.10894039,  0.12637052,  0.1790128 ,  0.15676117,\n",
       "         0.13041264,  0.07595044,  0.08314888,  0.19178662,  0.16483278,\n",
       "         0.12119797,  0.2166231 ,  0.11656124,  0.0578653 ,  0.15040339,\n",
       "         0.23124131,  0.13473969,  0.09360339,  0.12928138,  0.12392254,\n",
       "         0.16679951,  0.17809693,  0.06937626,  0.14603314,  0.13479087,\n",
       "         0.06731391,  0.21561229,  0.13405632,  0.06533806,  0.11410227,\n",
       "         0.16344271,  0.13956582,  0.12354767,  0.20582189,  0.17642787,\n",
       "         0.18214934,  0.12470861,  0.1327045 ,  0.13839169,  0.17702192,\n",
       "         0.14592646,  0.17758545,  0.1010033 ,  0.05264499,  0.1573334 ,\n",
       "         0.04687634,  0.16343579,  0.13871147,  0.13782035,  0.14161917,\n",
       "         0.07147135,  0.11567953,  0.19615729,  0.19117331,  0.16668045,\n",
       "         0.11524878,  0.12305832,  0.12007146,  0.12655337,  0.07456442,\n",
       "         0.05117086,  0.19702732,  0.12303172,  0.09800453,  0.07055426,\n",
       "         0.11605698,  0.13157218,  0.14790271,  0.15159122,  0.14552927,\n",
       "         0.08493398,  0.13606702,  0.07771444,  0.09665854,  0.07222365,\n",
       "         0.13862208,  0.20964162,  0.05039588,  0.14933592,  0.13954466,\n",
       "         0.18481532,  0.08119723,  0.1180115 ,  0.13218394,  0.09899607,\n",
       "         0.06399939,  0.09864528,  0.14860586,  0.06176161,  0.05333101,\n",
       "         0.08691452,  0.11592158,  0.09674672,  0.07077423,  0.12734192,\n",
       "         0.1774755 ,  0.16096093,  0.16539659,  0.13733013,  0.064892  ,\n",
       "         0.1487391 ,  0.17387042,  0.08792631,  0.13869347,  0.10991771,\n",
       "         0.15150045,  0.05916384,  0.14793545,  0.15583409,  0.15833875,\n",
       "         0.13107205,  0.1547852 ,  0.10160817,  0.15294612,  0.09017576,\n",
       "         0.17722467,  0.10689233,  0.07507285,  0.1459103 ,  0.0572169 ,\n",
       "         0.12001138,  0.14898112,  0.14570029,  0.12772483,  0.10968577,\n",
       "         0.12633508,  0.11367701,  0.18300658,  0.19531847,  0.14840509,\n",
       "         0.15217967,  0.14422712,  0.13829121,  0.14374612,  0.07643371,\n",
       "         0.08503373,  0.21600131,  0.1457837 ,  0.09188829,  0.22970481,\n",
       "         0.17272863,  0.16774216,  0.05422803,  0.17863307,  0.18307199,\n",
       "         0.06079443,  0.15422208,  0.15162987,  0.0384945 ,  0.09364201,\n",
       "         0.14752644,  0.18977811,  0.09012237,  0.13349704,  0.15190949,\n",
       "         0.05485132,  0.12330833,  0.14183408,  0.2041625 ,  0.26577985,\n",
       "         0.20778909,  0.17845034,  0.08414015,  0.06420071,  0.14783129,\n",
       "         0.2207813 ,  0.09497673,  0.15644352,  0.21654615,  0.11377733,\n",
       "         0.08659796,  0.14986153,  0.09940622,  0.12975715,  0.12803257,\n",
       "         0.13307898,  0.18104036,  0.13852961,  0.20468858,  0.14917798,\n",
       "         0.20755625,  0.11153261,  0.13060062,  0.12189269,  0.12332322,\n",
       "         0.05641749,  0.10009707,  0.123604  ,  0.17828447,  0.12454651,\n",
       "         0.18925215,  0.15333043,  0.05941521,  0.16334559,  0.1067627 ,\n",
       "         0.20096094,  0.17050797,  0.09303816,  0.1104433 ,  0.11984763,\n",
       "         0.13358127,  0.11174375,  0.13743542,  0.14727769,  0.16762731,\n",
       "         0.07493197,  0.09719746,  0.25932527,  0.11531919,  0.07028087,\n",
       "         0.12311618,  0.16258074,  0.12539609,  0.07390632,  0.05355099,\n",
       "         0.13304672,  0.22083183,  0.12029195,  0.20293031,  0.07617231,\n",
       "         0.1196867 ,  0.17844885,  0.07329235,  0.05486674,  0.26212902,\n",
       "         0.08261845,  0.09701284,  0.13581011,  0.14948935,  0.18407829,\n",
       "         0.20452869,  0.12756119,  0.11887808,  0.04968083,  0.1538044 ,\n",
       "         0.13624223,  0.14760653,  0.08347287,  0.07202726,  0.13253184,\n",
       "         0.14284457,  0.07382791,  0.1735812 ,  0.1341305 ,  0.14685237,\n",
       "         0.1461333 ,  0.09005069,  0.10448774,  0.0784664 ,  0.07130064,\n",
       "         0.20424435,  0.08608728,  0.16749985,  0.1777761 ,  0.08037507,\n",
       "         0.10505995,  0.12150975,  0.10646151,  0.12495783,  0.18933675,\n",
       "         0.05735149,  0.14587253,  0.15058395,  0.08348032,  0.09885612,\n",
       "         0.05480569,  0.05257857,  0.10735575,  0.17457307,  0.08414224,\n",
       "         0.11832962,  0.19359058,  0.14549536,  0.11311719,  0.15530301,\n",
       "         0.09634626,  0.04969323,  0.10749716,  0.10956428,  0.09736205,\n",
       "         0.10021581,  0.10895663,  0.1285742 ,  0.118071  ,  0.12098299,\n",
       "         0.10929465,  0.09228404,  0.1172422 ,  0.22219152,  0.15060018,\n",
       "         0.1003661 ,  0.09776256,  0.07988511,  0.04027063,  0.15643517,\n",
       "         0.17593186,  0.08088944,  0.1547409 ,  0.1687409 ,  0.11942056,\n",
       "         0.08640026,  0.26700431,  0.21952133,  0.13035109,  0.06297374,\n",
       "         0.09879559,  0.12680082,  0.05890956,  0.08953103,  0.13197299,\n",
       "         0.12864012,  0.24896814,  0.17209363,  0.17978339,  0.05119284,\n",
       "         0.10915229,  0.1153048 ,  0.14865574,  0.13750499,  0.17446526,\n",
       "         0.1842886 ,  0.0816898 ,  0.10624734,  0.18602911,  0.1177154 ,\n",
       "         0.13958723,  0.14802729,  0.14851777,  0.14800282,  0.09714236,\n",
       "         0.05617649,  0.13478067,  0.13189581,  0.06870787,  0.05583593,\n",
       "         0.08204265,  0.10936035,  0.14112368,  0.11138543,  0.16136763,\n",
       "         0.24231416,  0.14779164,  0.11381971,  0.1238865 ,  0.1722954 ,\n",
       "         0.13938903,  0.13179563,  0.21918296,  0.11551592,  0.1608916 ,\n",
       "         0.14457857,  0.12547587,  0.10324089,  0.09636655,  0.13439558,\n",
       "         0.26179542,  0.09412245,  0.22522595,  0.14729454,  0.14083327,\n",
       "         0.13883054,  0.0981347 ,  0.13801168,  0.19063169,  0.12978158,\n",
       "         0.10277158,  0.08111362,  0.07105045,  0.1861816 ,  0.14272999,\n",
       "         0.15946966,  0.16176815,  0.16112416,  0.07572483,  0.09595834,\n",
       "         0.16621612,  0.07652414,  0.08631064,  0.09054719,  0.13649513,\n",
       "         0.18814517,  0.12146791,  0.1692516 ,  0.16997726,  0.12303144,\n",
       "         0.14470501,  0.13347381,  0.12819135,  0.10540907,  0.14140392,\n",
       "         0.24084002,  0.11367108,  0.08213608,  0.12917013,  0.15598242,\n",
       "         0.13601915,  0.13199009,  0.12665087,  0.12004229,  0.12399508,\n",
       "         0.1709685 ,  0.14641417,  0.10008019,  0.0882204 ,  0.1171612 ,\n",
       "         0.16034313,  0.14745991,  0.18232487,  0.21227486,  0.13175669,\n",
       "         0.16008264,  0.17340699,  0.14896867,  0.17486651,  0.09410916,\n",
       "         0.13846726,  0.10002782,  0.11788294,  0.06032696,  0.11972711,\n",
       "         0.12286308,  0.1392542 ,  0.15255607,  0.17761865,  0.16279699,\n",
       "         0.19931984,  0.12964534,  0.13885879,  0.159106  ,  0.10872812,\n",
       "         0.15250956,  0.14755954,  0.10708787,  0.14130606,  0.03686643,\n",
       "         0.1172173 ,  0.103277  ,  0.150194  ,  0.14959508,  0.16678407,\n",
       "         0.14709495,  0.18214675,  0.06459552,  0.16910586,  0.12254722,\n",
       "         0.21215148,  0.17760309,  0.11601674,  0.15063908,  0.1484907 ,\n",
       "         0.12683307,  0.12676079,  0.22003262,  0.06284122,  0.13282739,\n",
       "         0.18352818,  0.0782673 ,  0.07197677,  0.22806953,  0.17222924,\n",
       "         0.08640479,  0.12411045,  0.13253352,  0.1651938 ,  0.06187896,\n",
       "         0.12662647,  0.17026209,  0.14837463,  0.07350245,  0.20453967,\n",
       "         0.15051383,  0.11675939,  0.18295629,  0.14743643,  0.11154606,\n",
       "         0.12342832,  0.10172215,  0.14162252,  0.0902398 ,  0.09260375,\n",
       "         0.20919932,  0.20450067,  0.22726861,  0.06575019,  0.21924027,\n",
       "         0.20216066,  0.12883972,  0.20019712,  0.13586538,  0.13502848,\n",
       "         0.11975825,  0.04353249,  0.10479805,  0.11527698,  0.12587068,\n",
       "         0.1178634 ,  0.23584474,  0.13357602,  0.13148291,  0.06386657,\n",
       "         0.22627276,  0.17944299,  0.1853149 ,  0.09247988,  0.04946787,\n",
       "         0.07873716,  0.14365257,  0.15035589,  0.13266247,  0.20710482,\n",
       "         0.14854043,  0.12228985,  0.08524233,  0.13535793,  0.14540318,\n",
       "         0.14457555,  0.12017221,  0.12979331,  0.08653256,  0.13173679,\n",
       "         0.10037681,  0.17603768,  0.06280536,  0.10109498,  0.08219101,\n",
       "         0.11455847,  0.11500937,  0.17190202,  0.0767194 ,  0.0725642 ,\n",
       "         0.15766738,  0.11565759,  0.09837325,  0.10405051,  0.12833579,\n",
       "         0.07663109,  0.12256889,  0.04417772,  0.10136821,  0.09686871,\n",
       "         0.12473529,  0.23787914,  0.16251341,  0.10642326,  0.23822046,\n",
       "         0.15571791,  0.04320931,  0.05786223,  0.13959635,  0.14846173,\n",
       "         0.18018192,  0.16863546,  0.12775401,  0.17762623,  0.08621887,\n",
       "         0.13221537,  0.18090889,  0.08478412,  0.16918578,  0.15009333,\n",
       "         0.19887459,  0.0508879 ,  0.1446044 ,  0.17386273,  0.14041349,\n",
       "         0.19353399,  0.15651355,  0.14848476,  0.20904545,  0.16872988,\n",
       "         0.10439576,  0.13401626,  0.18957305,  0.11717757,  0.10669418,\n",
       "         0.17717669,  0.12540162,  0.09671053,  0.13329314,  0.13721776,\n",
       "         0.21588151,  0.14268591,  0.10214952,  0.1867247 ,  0.15068499,\n",
       "         0.05148001,  0.14520349,  0.14728696,  0.16056468,  0.07918514,\n",
       "         0.15928849,  0.19935362,  0.16796946,  0.1133546 ,  0.10542318,\n",
       "         0.12889556,  0.19373156,  0.16305002,  0.21331134,  0.12339781,\n",
       "         0.08737656,  0.06438596,  0.17929957,  0.04994825,  0.15983305,\n",
       "         0.05201646,  0.17557085,  0.13779437,  0.10196162,  0.11893376,\n",
       "         0.10636393,  0.08842599,  0.12898642,  0.07412173,  0.1600558 ,\n",
       "         0.10661541,  0.07955545,  0.19230636,  0.02591918,  0.09404216,\n",
       "         0.20412587,  0.198814  ,  0.10113224,  0.0900226 ,  0.14254425,\n",
       "         0.12480461,  0.17795481,  0.16869073,  0.14048557,  0.0723485 ,\n",
       "         0.16697323,  0.12783227,  0.10501942,  0.1060053 ,  0.15518822,\n",
       "         0.13924339,  0.1424833 ,  0.14233402,  0.18848736,  0.18908625,\n",
       "         0.06260442,  0.21560406,  0.10593445,  0.12144158,  0.07021398,\n",
       "         0.12687411,  0.08838359,  0.15461541,  0.1071671 ,  0.04182278,\n",
       "         0.09889268,  0.21543982,  0.16309425,  0.15386685,  0.14576629,\n",
       "         0.11630172,  0.14960111,  0.09732214,  0.14736547,  0.05338381]),\n",
       " array([ 0.23181621,  0.22460552,  0.18158003,  0.17814395,  0.17316301,\n",
       "         0.18805319,  0.15179321,  0.14900915,  0.16722032,  0.14699375,\n",
       "         0.17504802,  0.1516652 ,  0.15426637,  0.15246526,  0.17019188,\n",
       "         0.17965876,  0.15759306,  0.14540236,  0.14656808,  0.15586819,\n",
       "         0.19679237,  0.24771896,  0.15865989,  0.1550154 ,  0.15471197,\n",
       "         0.14503397,  0.18220134,  0.15823804,  0.16647805,  0.25422909,\n",
       "         0.1697099 ,  0.16597655,  0.15676122,  0.15212123,  0.19796327,\n",
       "         0.18789883,  0.16616952,  0.15682005,  0.20053254,  0.15171   ,\n",
       "         0.1532852 ,  0.17878492,  0.20945343,  0.1557483 ,  0.14714648,\n",
       "         0.15122296,  0.1566184 ,  0.15701992,  0.17923308,  0.18050589,\n",
       "         0.15477939,  0.15115381,  0.17545252,  0.15214113,  0.2174156 ,\n",
       "         0.14915847,  0.17443899,  0.16775977,  0.17290764,  0.15206911,\n",
       "         0.23419012,  0.18995563,  0.15157915,  0.15643114,  0.16517462,\n",
       "         0.18439073,  0.14782448,  0.18611134,  0.1575346 ,  0.19354875,\n",
       "         0.19355605,  0.24529848,  0.14845974,  0.17443822,  0.18531029,\n",
       "         0.14736499,  0.14757746,  0.19070326,  0.1692152 ,  0.17202901,\n",
       "         0.1645831 ,  0.15196694,  0.16301247,  0.18514573,  0.16300272,\n",
       "         0.17816796,  0.14978255,  0.20332923,  0.16129258,  0.16796257,\n",
       "         0.1810864 ,  0.1507163 ,  0.17212433,  0.17209769,  0.16886827,\n",
       "         0.14621673,  0.17117477,  0.16360572,  0.16181733,  0.15748218,\n",
       "         0.17257179,  0.16126535,  0.2648697 ,  0.18762692,  0.1637223 ,\n",
       "         0.17499718,  0.21863683,  0.18200633,  0.20151063,  0.14486342,\n",
       "         0.15414935,  0.16504228,  0.18141917,  0.14647902,  0.15111266,\n",
       "         0.18069649,  0.16678883,  0.15369716,  0.15341329,  0.18765131,\n",
       "         0.16306105,  0.17207899,  0.15544181,  0.15217855,  0.16581322,\n",
       "         0.15529166,  0.18251344,  0.14746784,  0.15786732,  0.16635315,\n",
       "         0.16057086,  0.15023879,  0.15196471,  0.17265026,  0.20085374,\n",
       "         0.14537162,  0.15966092,  0.15517935,  0.18231721,  0.18220715,\n",
       "         0.19996456,  0.15239536,  0.17679748,  0.19025962,  0.1467951 ,\n",
       "         0.15350157,  0.15297762,  0.15656926,  0.16095348,  0.17436871,\n",
       "         0.15620114,  0.16654746,  0.18655715,  0.16028841,  0.14501721,\n",
       "         0.1540352 ,  0.14916979,  0.1522897 ,  0.15973086,  0.15639431,\n",
       "         0.17095259,  0.17946412,  0.15569258,  0.18197836,  0.19651577,\n",
       "         0.14821089,  0.16217642,  0.14997817,  0.17077328,  0.15459065,\n",
       "         0.15111423,  0.18333422,  0.15719725,  0.1516625 ,  0.16023902,\n",
       "         0.16484901,  0.16155791,  0.1619058 ,  0.1900924 ,  0.15621467,\n",
       "         0.15605458,  0.15869878,  0.14779952,  0.18185204,  0.16756479,\n",
       "         0.15472327,  0.18080791,  0.16447416,  0.17721935,  0.16021519,\n",
       "         0.16082111,  0.15510744,  0.16037553,  0.15249133,  0.16711523,\n",
       "         0.14615173,  0.15209997,  0.18949986,  0.14521455,  0.16250359,\n",
       "         0.18133956,  0.15905579,  0.17704517,  0.15277077,  0.16330226,\n",
       "         0.16156099,  0.1604366 ,  0.15442799,  0.15777619,  0.17036359,\n",
       "         0.16275676,  0.1779438 ,  0.16299861,  0.14612459,  0.15447489,\n",
       "         0.1684829 ,  0.1527615 ,  0.15738538,  0.17140961,  0.224035  ,\n",
       "         0.15244992,  0.18529132,  0.1499202 ,  0.17038039,  0.15121207,\n",
       "         0.19702635,  0.16716638,  0.15927031,  0.15960874,  0.15063638,\n",
       "         0.17020834,  0.15862907,  0.1679245 ,  0.18672815,  0.17010229,\n",
       "         0.1489726 ,  0.15265382,  0.15115149,  0.14968087,  0.17251933,\n",
       "         0.16373427,  0.19962346,  0.18737192,  0.17940114,  0.17523901,\n",
       "         0.1651998 ,  0.16978207,  0.19409284,  0.17043285,  0.1877388 ,\n",
       "         0.1540673 ,  0.14567796,  0.14536112,  0.15458344,  0.15416671,\n",
       "         0.15572375,  0.15694177,  0.16515676,  0.16075325,  0.14849456,\n",
       "         0.15728335,  0.17353387,  0.1906982 ,  0.15355761,  0.14774488,\n",
       "         0.1661102 ,  0.14714684,  0.15518421,  0.15933054,  0.15198312,\n",
       "         0.14932503,  0.16451634,  0.21337081,  0.17500396,  0.15994751,\n",
       "         0.16056186,  0.20323332,  0.14776468,  0.1578101 ,  0.18290753,\n",
       "         0.15194353,  0.14868272,  0.1753535 ,  0.14968924,  0.14933148,\n",
       "         0.17875276,  0.14684896,  0.19372154,  0.15551178,  0.15744222,\n",
       "         0.15705905,  0.14539168,  0.15629835,  0.16341601,  0.14974507,\n",
       "         0.16275462,  0.1501479 ,  0.17624543,  0.14890364,  0.1615514 ,\n",
       "         0.15416979,  0.15238262,  0.22600714,  0.19323302,  0.17385025,\n",
       "         0.15307194,  0.14920698,  0.17884017,  0.15603603,  0.17240335,\n",
       "         0.15517604,  0.1648928 ,  0.18689316,  0.15643506,  0.17383347,\n",
       "         0.15006802,  0.21603124,  0.16780679,  0.16251556,  0.16918007,\n",
       "         0.18973337,  0.1867645 ,  0.19451602,  0.1481285 ,  0.20513786,\n",
       "         0.19035209,  0.16753601,  0.15476017,  0.16223357,  0.14849027,\n",
       "         0.15299642,  0.16158468,  0.17955381,  0.15502476,  0.17195684,\n",
       "         0.16970311,  0.15536868,  0.15492351,  0.18104979,  0.20047299,\n",
       "         0.15507013,  0.14975326,  0.15267703,  0.17138895,  0.16085589,\n",
       "         0.16186023,  0.14737319,  0.18896242,  0.2014558 ,  0.17116255,\n",
       "         0.14663809,  0.21121676,  0.14970483,  0.20507208,  0.16403998,\n",
       "         0.21503245,  0.15526219,  0.18489321,  0.14884486,  0.14993903,\n",
       "         0.18962528,  0.17781199,  0.16605889,  0.15483405,  0.16949982,\n",
       "         0.17758833,  0.20819288,  0.18366073,  0.15000602,  0.14552995,\n",
       "         0.17290625,  0.15427578,  0.17765119,  0.18776056,  0.19675076,\n",
       "         0.17995666,  0.14724454,  0.17082142,  0.17727169,  0.17629698,\n",
       "         0.15358212,  0.17195926,  0.15450833,  0.16761103,  0.15821064,\n",
       "         0.21455551,  0.19032049,  0.18893142,  0.15633528,  0.15292788,\n",
       "         0.15071025,  0.14734555,  0.18421258,  0.20095589,  0.16279109,\n",
       "         0.14567413,  0.15144873,  0.15478423,  0.17510983,  0.15525195,\n",
       "         0.1817518 ,  0.18321881,  0.14972002,  0.14625825,  0.14923832,\n",
       "         0.17691279,  0.16377759,  0.15430153,  0.15640023,  0.17487021,\n",
       "         0.15567797,  0.17723099,  0.16991913,  0.15287617,  0.17127583,\n",
       "         0.15876686,  0.19056661,  0.16387078,  0.17584429,  0.19433665,\n",
       "         0.17406893,  0.16186404,  0.17747302,  0.16644371,  0.14497368,\n",
       "         0.15114146,  0.14817719,  0.16605248,  0.15098606,  0.16100167,\n",
       "         0.14878997,  0.14604567,  0.14733684,  0.149436  ,  0.15126771,\n",
       "         0.19194626,  0.18786714,  0.1912499 ,  0.18552893,  0.15641005,\n",
       "         0.17658088,  0.16712054,  0.14570482,  0.15510774,  0.15278251,\n",
       "         0.15564307,  0.15278497,  0.15692298,  0.19559199,  0.19924781,\n",
       "         0.15414505,  0.16016451,  0.16067994,  0.15660562,  0.1458524 ,\n",
       "         0.16869859,  0.14698969,  0.15110907,  0.15341889,  0.15372262,\n",
       "         0.19094434,  0.16176508,  0.159954  ,  0.15991872,  0.15901296,\n",
       "         0.14811714,  0.15151883,  0.18641157,  0.17972817,  0.17818573,\n",
       "         0.15598727,  0.15293064,  0.1677292 ,  0.16336048,  0.16014471,\n",
       "         0.1680759 ,  0.19539912,  0.15353589,  0.17868179,  0.20827951,\n",
       "         0.16672942,  0.16320044,  0.17503314,  0.17368363,  0.17341601,\n",
       "         0.15189475,  0.17661687,  0.16085921,  0.2207882 ,  0.14744623,\n",
       "         0.16730324,  0.18245739,  0.16420121,  0.18468562,  0.15663814,\n",
       "         0.16817648,  0.1507093 ,  0.17307423,  0.18593291,  0.24229227,\n",
       "         0.21341869,  0.17180153,  0.14625978,  0.17315622,  0.15422415,\n",
       "         0.20264091,  0.15915487,  0.16351656,  0.19530785,  0.14698016,\n",
       "         0.14562147,  0.17767185,  0.156827  ,  0.16713288,  0.15068854,\n",
       "         0.15962694,  0.19406885,  0.16927853,  0.19081206,  0.15572937,\n",
       "         0.19909899,  0.14823304,  0.16133638,  0.16002975,  0.15473689,\n",
       "         0.17411916,  0.17789163,  0.19029075,  0.17876693,  0.14738017,\n",
       "         0.2067466 ,  0.15968667,  0.21429321,  0.18831879,  0.15451954,\n",
       "         0.19029875,  0.16463257,  0.17715257,  0.1482809 ,  0.14919058,\n",
       "         0.16088288,  0.15754354,  0.15588246,  0.1559837 ,  0.16947219,\n",
       "         0.15287983,  0.15386443,  0.24073754,  0.14828615,  0.1707721 ,\n",
       "         0.16806163,  0.16107276,  0.19265937,  0.14861868,  0.1600964 ,\n",
       "         0.19297579,  0.2020235 ,  0.14700304,  0.18547811,  0.15206793,\n",
       "         0.15225678,  0.20256447,  0.205742  ,  0.15706435,  0.24100946,\n",
       "         0.15045406,  0.18106646,  0.15019889,  0.16278843,  0.17244915,\n",
       "         0.19491949,  0.14803894,  0.14751364,  0.16171139,  0.15687979,\n",
       "         0.15455084,  0.17523746,  0.1658263 ,  0.16323705,  0.15611205,\n",
       "         0.16263687,  0.1488272 ,  0.16628411,  0.17528149,  0.15687576,\n",
       "         0.16093188,  0.14611641,  0.1538825 ,  0.18444913,  0.14863896,\n",
       "         0.18791409,  0.14731361,  0.16533628,  0.17564931,  0.15193321,\n",
       "         0.1819162 ,  0.14943923,  0.14529351,  0.15851852,  0.20582003,\n",
       "         0.15757501,  0.1535748 ,  0.15716802,  0.16585566,  0.16803748,\n",
       "         0.15608631,  0.15797031,  0.15131385,  0.19688955,  0.14881129,\n",
       "         0.15762631,  0.17947938,  0.16142285,  0.14559726,  0.16546993,\n",
       "         0.15754707,  0.16606618,  0.14948148,  0.15515816,  0.14482637,\n",
       "         0.19122086,  0.15350114,  0.16821178,  0.16054282,  0.16290477,\n",
       "         0.14696801,  0.19509075,  0.16190858,  0.20349858,  0.15546783,\n",
       "         0.14793313,  0.16405847,  0.20106767,  0.17562928,  0.1869618 ,\n",
       "         0.1957164 ,  0.18714444,  0.16317849,  0.16711897,  0.16224444,\n",
       "         0.15198377,  0.24301823,  0.21127153,  0.15216439,  0.15456913,\n",
       "         0.17208838,  0.16054968,  0.15982577,  0.15733281,  0.15053537,\n",
       "         0.15767635,  0.22473079,  0.17190464,  0.19490942,  0.19410969,\n",
       "         0.15404282,  0.18973583,  0.15578834,  0.15561715,  0.16700906,\n",
       "         0.18373225,  0.17169539,  0.15671761,  0.19740332,  0.15664644,\n",
       "         0.19528303,  0.15980944,  0.16854558,  0.1952611 ,  0.16556598,\n",
       "         0.18270586,  0.16252502,  0.15031508,  0.15235531,  0.16848049,\n",
       "         0.1468042 ,  0.15786483,  0.17868311,  0.1457033 ,  0.19281192,\n",
       "         0.23045062,  0.18301821,  0.17965537,  0.14715332,  0.1711425 ,\n",
       "         0.15230439,  0.17157644,  0.20345551,  0.1807025 ,  0.17746993,\n",
       "         0.15434678,  0.14788512,  0.15686645,  0.17017464,  0.15244049,\n",
       "         0.24617001,  0.15070054,  0.20313666,  0.16662406,  0.15538611,\n",
       "         0.16199709,  0.15283029,  0.18891964,  0.18284899,  0.14923922,\n",
       "         0.16479505,  0.18970998,  0.15061264,  0.17597996,  0.1522854 ,\n",
       "         0.17609259,  0.16591243,  0.1777193 ,  0.16198348,  0.15604725,\n",
       "         0.16238015,  0.14994816,  0.14612759,  0.14545533,  0.15066337,\n",
       "         0.17488094,  0.15965741,  0.16442859,  0.16882739,  0.15180118,\n",
       "         0.15762546,  0.14937573,  0.15638288,  0.15913006,  0.18649255,\n",
       "         0.23365088,  0.15685674,  0.14815502,  0.15414273,  0.17718394,\n",
       "         0.16156429,  0.19548909,  0.17350409,  0.14896293,  0.16170265,\n",
       "         0.17468192,  0.16017074,  0.14835022,  0.14710737,  0.16330554,\n",
       "         0.16364433,  0.18403178,  0.17201163,  0.19274726,  0.15069775,\n",
       "         0.16286879,  0.19130212,  0.17289125,  0.18309189,  0.15329903,\n",
       "         0.16312442,  0.15505934,  0.1493833 ,  0.15450475,  0.15980864,\n",
       "         0.16219918,  0.18069514,  0.1729624 ,  0.1759282 ,  0.16699583,\n",
       "         0.18459233,  0.16283045,  0.17162878,  0.16689256,  0.15759849,\n",
       "         0.15926716,  0.15544056,  0.14535313,  0.15244412,  0.19089746,\n",
       "         0.19113345,  0.18750509,  0.17134637,  0.15835565,  0.16924872,\n",
       "         0.15400259,  0.17178611,  0.16306448,  0.17552479,  0.15037426,\n",
       "         0.19186754,  0.17018822,  0.14846478,  0.15569953,  0.16279453,\n",
       "         0.15108246,  0.17162658,  0.20164421,  0.19711769,  0.14924402,\n",
       "         0.19153291,  0.19929302,  0.15346513,  0.21519852,  0.1659276 ,\n",
       "         0.17622064,  0.16168252,  0.16460804,  0.16774525,  0.15219835,\n",
       "         0.18152969,  0.16456037,  0.19689433,  0.14807077,  0.18581762,\n",
       "         0.16009624,  0.14939139,  0.17205868,  0.1575127 ,  0.15285004,\n",
       "         0.14784983,  0.14491051,  0.15188885,  0.182733  ,  0.14786432,\n",
       "         0.21607039,  0.18909977,  0.20642214,  0.15099693,  0.19765908,\n",
       "         0.19521953,  0.14838425,  0.18565421,  0.1516648 ,  0.15682919,\n",
       "         0.17007116,  0.17223996,  0.1594724 ,  0.15110844,  0.17272175,\n",
       "         0.15330236,  0.22787741,  0.15279888,  0.1513592 ,  0.16712865,\n",
       "         0.2095686 ,  0.17020094,  0.19913023,  0.15362262,  0.17819652,\n",
       "         0.18958549,  0.15780836,  0.15744777,  0.17634227,  0.19018995,\n",
       "         0.17329708,  0.16585833,  0.14873869,  0.16022523,  0.17498276,\n",
       "         0.18775708,  0.16349524,  0.14986791,  0.15827461,  0.14983123,\n",
       "         0.17387513,  0.16840233,  0.18951923,  0.14484138,  0.14611836,\n",
       "         0.15148972,  0.15029704,  0.18049068,  0.14783209,  0.16348175,\n",
       "         0.19523798,  0.16802112,  0.14751033,  0.14542527,  0.15908937,\n",
       "         0.14733684,  0.15871454,  0.1673086 ,  0.14745743,  0.14495944,\n",
       "         0.15529842,  0.2192924 ,  0.18442295,  0.16025598,  0.21628012,\n",
       "         0.15757044,  0.19444169,  0.16748562,  0.15190033,  0.16865524,\n",
       "         0.17019792,  0.18161595,  0.1479142 ,  0.1691288 ,  0.1614327 ,\n",
       "         0.14903355,  0.17049873,  0.14695663,  0.16511084,  0.16696341,\n",
       "         0.18204199,  0.21282162,  0.15830297,  0.17045591,  0.15309313,\n",
       "         0.18240813,  0.16118426,  0.17929448,  0.19026469,  0.17207347,\n",
       "         0.14491415,  0.16979836,  0.19792808,  0.16135728,  0.15947954,\n",
       "         0.16958888,  0.15102747,  0.15762639,  0.15012751,  0.17622896,\n",
       "         0.20277019,  0.19277928,  0.14711044,  0.19894828,  0.18299224,\n",
       "         0.1568236 ,  0.18148651,  0.17528538,  0.16360172,  0.15451345,\n",
       "         0.15955411,  0.18701806,  0.16349561,  0.15604281,  0.15405543,\n",
       "         0.17948453,  0.18199737,  0.17322027,  0.21359554,  0.15743762,\n",
       "         0.15143526,  0.16474537,  0.18111733,  0.16534014,  0.19183485,\n",
       "         0.20227148,  0.20029856,  0.16849954,  0.16272866,  0.18739881,\n",
       "         0.1627948 ,  0.19313758,  0.14825954,  0.15050411,  0.18062125,\n",
       "         0.16026121,  0.16796959,  0.18001727,  0.23074051,  0.15889306,\n",
       "         0.194894  ,  0.1881476 ,  0.18013549,  0.15582695,  0.17729109,\n",
       "         0.15257055,  0.16890856,  0.19837281,  0.17108589,  0.15397778,\n",
       "         0.16462496,  0.15647261,  0.15019005,  0.16750346,  0.17401308,\n",
       "         0.1525151 ,  0.17768535,  0.17366154,  0.18840271,  0.17809347,\n",
       "         0.1631881 ,  0.19418317,  0.17111923,  0.14760702,  0.15998504,\n",
       "         0.14977732,  0.14753687,  0.16169737,  0.15587225,  0.17593629,\n",
       "         0.15283833,  0.20057351,  0.16153334,  0.17245826,  0.17948383,\n",
       "         0.19243746,  0.18884424,  0.14498126,  0.15905149,  0.20210916]))"
      ]
     },
     "execution_count": 20,
     "metadata": {},
     "output_type": "execute_result"
    }
   ],
   "source": [
    "pfolio_returns = []\n",
    "pfolio_volatilities = []\n",
    "\n",
    "for x in range (1000):\n",
    "    weights = np.random.random(num_assets)\n",
    "    weights /= np.sum(weights)\n",
    "    pfolio_returns.append(np.sum(weights * log_returns.mean()) * 250)\n",
    "    pfolio_volatilities.append(np.sqrt(np.dot(weights.T,np.dot(log_returns.cov() * 250, weights))))\n",
    "    \n",
    "pfolio_returns = np.array(pfolio_returns)\n",
    "pfolio_volatilities = np.array(pfolio_volatilities)\n",
    "\n",
    "pfolio_returns, pfolio_volatilities"
   ]
  },
  {
   "cell_type": "code",
   "execution_count": 21,
   "metadata": {
    "collapsed": true
   },
   "outputs": [],
   "source": [
    "portfolios = pd.DataFrame({'Return': pfolio_returns, 'Volatility': pfolio_volatilities})"
   ]
  },
  {
   "cell_type": "code",
   "execution_count": 22,
   "metadata": {},
   "outputs": [
    {
     "data": {
      "text/html": [
       "<div>\n",
       "<style>\n",
       "    .dataframe thead tr:only-child th {\n",
       "        text-align: right;\n",
       "    }\n",
       "\n",
       "    .dataframe thead th {\n",
       "        text-align: left;\n",
       "    }\n",
       "\n",
       "    .dataframe tbody tr th {\n",
       "        vertical-align: top;\n",
       "    }\n",
       "</style>\n",
       "<table border=\"1\" class=\"dataframe\">\n",
       "  <thead>\n",
       "    <tr style=\"text-align: right;\">\n",
       "      <th></th>\n",
       "      <th>Return</th>\n",
       "      <th>Volatility</th>\n",
       "    </tr>\n",
       "  </thead>\n",
       "  <tbody>\n",
       "    <tr>\n",
       "      <th>0</th>\n",
       "      <td>0.249900</td>\n",
       "      <td>0.231816</td>\n",
       "    </tr>\n",
       "    <tr>\n",
       "      <th>1</th>\n",
       "      <td>0.227732</td>\n",
       "      <td>0.224606</td>\n",
       "    </tr>\n",
       "    <tr>\n",
       "      <th>2</th>\n",
       "      <td>0.064339</td>\n",
       "      <td>0.181580</td>\n",
       "    </tr>\n",
       "    <tr>\n",
       "      <th>3</th>\n",
       "      <td>0.069372</td>\n",
       "      <td>0.178144</td>\n",
       "    </tr>\n",
       "    <tr>\n",
       "      <th>4</th>\n",
       "      <td>0.185052</td>\n",
       "      <td>0.173163</td>\n",
       "    </tr>\n",
       "  </tbody>\n",
       "</table>\n",
       "</div>"
      ],
      "text/plain": [
       "     Return  Volatility\n",
       "0  0.249900    0.231816\n",
       "1  0.227732    0.224606\n",
       "2  0.064339    0.181580\n",
       "3  0.069372    0.178144\n",
       "4  0.185052    0.173163"
      ]
     },
     "execution_count": 22,
     "metadata": {},
     "output_type": "execute_result"
    }
   ],
   "source": [
    "portfolios.head()"
   ]
  },
  {
   "cell_type": "code",
   "execution_count": 23,
   "metadata": {},
   "outputs": [
    {
     "data": {
      "text/html": [
       "<div>\n",
       "<style>\n",
       "    .dataframe thead tr:only-child th {\n",
       "        text-align: right;\n",
       "    }\n",
       "\n",
       "    .dataframe thead th {\n",
       "        text-align: left;\n",
       "    }\n",
       "\n",
       "    .dataframe tbody tr th {\n",
       "        vertical-align: top;\n",
       "    }\n",
       "</style>\n",
       "<table border=\"1\" class=\"dataframe\">\n",
       "  <thead>\n",
       "    <tr style=\"text-align: right;\">\n",
       "      <th></th>\n",
       "      <th>Return</th>\n",
       "      <th>Volatility</th>\n",
       "    </tr>\n",
       "  </thead>\n",
       "  <tbody>\n",
       "    <tr>\n",
       "      <th>995</th>\n",
       "      <td>0.116302</td>\n",
       "      <td>0.192437</td>\n",
       "    </tr>\n",
       "    <tr>\n",
       "      <th>996</th>\n",
       "      <td>0.149601</td>\n",
       "      <td>0.188844</td>\n",
       "    </tr>\n",
       "    <tr>\n",
       "      <th>997</th>\n",
       "      <td>0.097322</td>\n",
       "      <td>0.144981</td>\n",
       "    </tr>\n",
       "    <tr>\n",
       "      <th>998</th>\n",
       "      <td>0.147365</td>\n",
       "      <td>0.159051</td>\n",
       "    </tr>\n",
       "    <tr>\n",
       "      <th>999</th>\n",
       "      <td>0.053384</td>\n",
       "      <td>0.202109</td>\n",
       "    </tr>\n",
       "  </tbody>\n",
       "</table>\n",
       "</div>"
      ],
      "text/plain": [
       "       Return  Volatility\n",
       "995  0.116302    0.192437\n",
       "996  0.149601    0.188844\n",
       "997  0.097322    0.144981\n",
       "998  0.147365    0.159051\n",
       "999  0.053384    0.202109"
      ]
     },
     "execution_count": 23,
     "metadata": {},
     "output_type": "execute_result"
    }
   ],
   "source": [
    "portfolios.tail()"
   ]
  },
  {
   "cell_type": "code",
   "execution_count": 24,
   "metadata": {},
   "outputs": [
    {
     "data": {
      "text/plain": [
       "<matplotlib.text.Text at 0x99b38d0>"
      ]
     },
     "execution_count": 24,
     "metadata": {},
     "output_type": "execute_result"
    },
    {
     "data": {
      "image/png": "[encoded data removed]",
      "text/plain": [
       "<matplotlib.figure.Figure at 0x93b6b00>"
      ]
     },
     "metadata": {},
     "output_type": "display_data"
    }
   ],
   "source": [
    "portfolios.plot(x='Volatility', y='Return', kind='scatter', figsize=(10, 6));\n",
    "plt.xlabel('Expected Volatility')\n",
    "plt.ylabel('Expected Return')"
   ]
  }
 ],
 "metadata": {
  "kernelspec": {
   "display_name": "Python 2",
   "language": "python",
   "name": "python2"
  },
  "language_info": {
   "codemirror_mode": {
    "name": "ipython",
    "version": 2
   },
   "file_extension": ".py",
   "mimetype": "text/x-python",
   "name": "python",
   "nbconvert_exporter": "python",
   "pygments_lexer": "ipython2",
   "version": "2.7.14"
  }
 },
 "nbformat": 4,
 "nbformat_minor": 2
}
